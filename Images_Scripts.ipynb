{
 "cells": [
  {
   "cell_type": "markdown",
   "metadata": {},
   "source": [
    "# Image Processing Scripts with OpenCV\n",
    "\n",
    "#### These basic functions can be useful when working and processing images\n",
    "\n",
    "\n",
    "##### 1.Loading images\n"
   ]
  },
  {
   "cell_type": "code",
   "execution_count": 1,
   "metadata": {},
   "outputs": [],
   "source": [
    "import  numpy as np\n",
    "import cv2 , sys"
   ]
  },
  {
   "cell_type": "code",
   "execution_count": 2,
   "metadata": {},
   "outputs": [],
   "source": [
    "file = './bojack.jpg'\n",
    "#Load the image\n",
    "img = cv2.imread(file)\n",
    "\n",
    "#Check our image has been correctly loaded\n",
    "if (img.size == 0):\n",
    "    sys.exit(\"Error: the image has not been correctly loaded.\")"
   ]
  },
  {
   "cell_type": "code",
   "execution_count": 3,
   "metadata": {},
   "outputs": [],
   "source": [
    "# We display our image\n",
    "#cv2.imshow(\"image\", img)\n",
    "\n",
    "#Check our image has been correctly loaded\n",
    "if (img.size == 0):\n",
    "    sys.exit(\"Error: the image has not been correctly loaded.\")"
   ]
  },
  {
   "cell_type": "markdown",
   "metadata": {},
   "source": [
    "##### 2.Resize "
   ]
  },
  {
   "cell_type": "code",
   "execution_count": 28,
   "metadata": {},
   "outputs": [],
   "source": [
    "def resizeImage(img, scale_percent=50, show=False, save=True, directory=\"\"):\n",
    "    \"\"\"Resize an image\n",
    "    \n",
    "    Return resized image\n",
    "        \n",
    "    Params:\n",
    "    img -- Image to process\n",
    "    scale_percent -- percent of original size\n",
    "    show -- to show the image\n",
    "    dir -- dir to save the image\n",
    "    \n",
    "    \"\"\"\n",
    "    \n",
    "    print('Original Dimensions : ',img.shape)\n",
    "    \n",
    "    width = int(img.shape[1] * scale_percent / 100)\n",
    "    height = int(img.shape[0] * scale_percent / 100)\n",
    "    dim = (width, height)\n",
    "    \n",
    "    # resize image\n",
    "    resized = cv2.resize(img, dim, interpolation = cv2.INTER_AREA)\n",
    "    \n",
    "    print('Resized Dimensions : ',resized.shape)\n",
    "    \n",
    "    if show:\n",
    "        cv2.imshow(\"Resized image\", resized)\n",
    "        cv2.waitKey(0) \n",
    "    \n",
    "    if(save):\n",
    "        cv2.imwrite(directory + '.jpg', resized) \n",
    "        print(\"Saved\")\n",
    "        \n",
    "    return resized"
   ]
  },
  {
   "cell_type": "code",
   "execution_count": 29,
   "metadata": {},
   "outputs": [
    {
     "name": "stdout",
     "output_type": "stream",
     "text": [
      "Original Dimensions :  (2160, 3840, 3)\n",
      "Resized Dimensions :  (648, 1152, 3)\n",
      "Saved\n"
     ]
    }
   ],
   "source": [
    "img_resized = resizeImage(img, 30, show=False, save=True, directory='./BojackResized1')\n"
   ]
  },
  {
   "cell_type": "markdown",
   "metadata": {},
   "source": [
    "##### 3.Save "
   ]
  },
  {
   "cell_type": "code",
   "execution_count": null,
   "metadata": {},
   "outputs": [],
   "source": []
  }
 ],
 "metadata": {
  "kernelspec": {
   "display_name": "Python 3",
   "language": "python",
   "name": "python3"
  },
  "language_info": {
   "codemirror_mode": {
    "name": "ipython",
    "version": 3
   },
   "file_extension": ".py",
   "mimetype": "text/x-python",
   "name": "python",
   "nbconvert_exporter": "python",
   "pygments_lexer": "ipython3",
   "version": "3.7.5"
  }
 },
 "nbformat": 4,
 "nbformat_minor": 2
}
