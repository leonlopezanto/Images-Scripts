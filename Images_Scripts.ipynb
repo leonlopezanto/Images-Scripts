{
 "cells": [
  {
   "cell_type": "markdown",
   "metadata": {},
   "source": [
    "# Image Processing Scripts with OpenCV\n",
    "\n",
    "#### These basic functions can be useful when working and processing images\n",
    "\n",
    "\n",
    "##### 1.Loading images\n"
   ]
  },
  {
   "cell_type": "code",
   "execution_count": 13,
   "metadata": {},
   "outputs": [],
   "source": [
    "import  numpy as np\n",
    "import cv2 , sys\n",
    "import os"
   ]
  },
  {
   "cell_type": "code",
   "execution_count": 6,
   "metadata": {},
   "outputs": [],
   "source": [
    "file = './bojack.jpg'\n",
    "#Load the image\n",
    "img = cv2.imread(file)\n",
    "\n",
    "#Check our image has been correctly loaded\n",
    "if (img.size == 0):\n",
    "    sys.exit(\"Error: the image has not been correctly loaded.\")"
   ]
  },
  {
   "cell_type": "code",
   "execution_count": 7,
   "metadata": {},
   "outputs": [],
   "source": [
    "# We display our image\n",
    "#cv2.imshow(\"image\", img)\n",
    "\n",
    "#Check our image has been correctly loaded\n",
    "if (img.size == 0):\n",
    "    sys.exit(\"Error: the image has not been correctly loaded.\")"
   ]
  },
  {
   "cell_type": "markdown",
   "metadata": {},
   "source": [
    "##### 2.Resize "
   ]
  },
  {
   "cell_type": "code",
   "execution_count": 8,
   "metadata": {},
   "outputs": [],
   "source": [
    "def resizeImage(img, scale_percent=50, show=False):\n",
    "    \"\"\"Resize an image\n",
    "    \n",
    "    Return resized image\n",
    "        \n",
    "    Params:\n",
    "    img -- Image to process\n",
    "    scale_percent -- percent of original size\n",
    "    show -- to show the image\n",
    "    \n",
    "    \"\"\"\n",
    "    \n",
    "    print('Original Dimensions : ',img.shape)\n",
    "    \n",
    "    width = int(img.shape[1] * scale_percent / 100)\n",
    "    height = int(img.shape[0] * scale_percent / 100)\n",
    "    dim = (width, height)\n",
    "    \n",
    "    # resize image\n",
    "    resized = cv2.resize(img, dim, interpolation = cv2.INTER_AREA)\n",
    "    \n",
    "    print('Resized Dimensions : ',resized.shape)\n",
    "    \n",
    "    if show:\n",
    "        cv2.imshow(\"Resized image\", resized)\n",
    "        cv2.waitKey(0) \n",
    "        \n",
    "    return resized"
   ]
  },
  {
   "cell_type": "code",
   "execution_count": 10,
   "metadata": {},
   "outputs": [
    {
     "name": "stdout",
     "output_type": "stream",
     "text": [
      "Original Dimensions :  (2160, 3840, 3)\n",
      "Resized Dimensions :  (648, 1152, 3)\n"
     ]
    }
   ],
   "source": [
    "img_resized = resizeImage(img, 30, show=False)\n"
   ]
  },
  {
   "cell_type": "markdown",
   "metadata": {},
   "source": [
    "##### 3.Save "
   ]
  },
  {
   "cell_type": "code",
   "execution_count": 16,
   "metadata": {},
   "outputs": [],
   "source": [
    "def saveImage(img, path=\"./\"):\n",
    "    \"\"\"Save an image in a directory\n",
    "    \n",
    "    Params:\n",
    "    img -- image to save\n",
    "    path - path of the saved image\n",
    "    \"\"\"\n",
    "    cv2.imwrite(path + '.png', img) \n",
    "    # List files and directories   \n",
    "    print(\"After saving image:\")   \n",
    "    print(os.listdir(path)) \n",
    "\n",
    "    print('Successfully saved') "
   ]
  },
  {
   "cell_type": "code",
   "execution_count": 18,
   "metadata": {},
   "outputs": [
    {
     "ename": "SyntaxError",
     "evalue": "EOL while scanning string literal (<ipython-input-18-65a36e5abe84>, line 1)",
     "output_type": "error",
     "traceback": [
      "\u001b[1;36m  File \u001b[1;32m\"<ipython-input-18-65a36e5abe84>\"\u001b[1;36m, line \u001b[1;32m1\u001b[0m\n\u001b[1;33m    saveImage(img_resized, './)\u001b[0m\n\u001b[1;37m                               ^\u001b[0m\n\u001b[1;31mSyntaxError\u001b[0m\u001b[1;31m:\u001b[0m EOL while scanning string literal\n"
     ]
    }
   ],
   "source": [
    "saveImage(img_resized, './)"
   ]
  },
  {
   "cell_type": "code",
   "execution_count": null,
   "metadata": {},
   "outputs": [],
   "source": []
  }
 ],
 "metadata": {
  "kernelspec": {
   "display_name": "Python 3",
   "language": "python",
   "name": "python3"
  },
  "language_info": {
   "codemirror_mode": {
    "name": "ipython",
    "version": 3
   },
   "file_extension": ".py",
   "mimetype": "text/x-python",
   "name": "python",
   "nbconvert_exporter": "python",
   "pygments_lexer": "ipython3",
   "version": "3.7.5"
  }
 },
 "nbformat": 4,
 "nbformat_minor": 2
}
